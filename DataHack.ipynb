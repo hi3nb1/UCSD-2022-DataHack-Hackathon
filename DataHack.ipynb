{
 "cells": [
  {
   "cell_type": "code",
   "execution_count": 1,
   "id": "a09d8b86",
   "metadata": {},
   "outputs": [],
   "source": [
    "import numpy as np\n",
    "import pandas as pd\n",
    "import matplotlib.pyplot as plt\n",
    "import string\n",
    "\n",
    "from gensim.models import Word2Vec\n",
    "from sklearn.feature_extraction.text import CountVectorizer\n",
    "from sklearn.linear_model import LogisticRegression\n",
    "from sklearn.model_selection import train_test_split\n",
    "from sklearn.neighbors import KNeighborsClassifier\n",
    "from sklearn.model_selection import GridSearchCV\n",
    "from sklearn.metrics import f1_score"
   ]
  },
  {
   "cell_type": "code",
   "execution_count": 2,
   "id": "652b2ad5",
   "metadata": {},
   "outputs": [],
   "source": [
    "train = pd.read_csv(\"Sharktankpitchesdeals.csv\")\n",
    "test = pd.read_csv(\"intermediate_testset.csv\")"
   ]
  },
  {
   "cell_type": "markdown",
   "id": "e359be60",
   "metadata": {},
   "source": [
    "# Introduction\n",
    "This project analyzes Shark Tank data, in which each entry contains the idea pitched, and a binary label indicating whether or not a deal was made for that pitch. With this dataset, our goal was to develop a natural language processing model that predicts whether or not a given pitch will land a deal based on its product description."
   ]
  },
  {
   "cell_type": "markdown",
   "id": "876d6f2c",
   "metadata": {},
   "source": [
    "## Data Cleaning / Pre-processing"
   ]
  },
  {
   "cell_type": "markdown",
   "id": "98f2d704",
   "metadata": {},
   "source": [
    "Since our task was to predict deals based on description, we mainly prioritized cleaning the **Description** column and **Deal Status** column entries."
   ]
  },
  {
   "cell_type": "code",
   "execution_count": 3,
   "id": "977924de",
   "metadata": {
    "scrolled": true
   },
   "outputs": [
    {
     "data": {
      "text/html": [
       "<div>\n",
       "<style scoped>\n",
       "    .dataframe tbody tr th:only-of-type {\n",
       "        vertical-align: middle;\n",
       "    }\n",
       "\n",
       "    .dataframe tbody tr th {\n",
       "        vertical-align: top;\n",
       "    }\n",
       "\n",
       "    .dataframe thead th {\n",
       "        text-align: right;\n",
       "    }\n",
       "</style>\n",
       "<table border=\"1\" class=\"dataframe\">\n",
       "  <thead>\n",
       "    <tr style=\"text-align: right;\">\n",
       "      <th></th>\n",
       "      <th>ep</th>\n",
       "      <th>Pitch</th>\n",
       "      <th>Desc</th>\n",
       "      <th>Deal_Status</th>\n",
       "      <th>Deal_Shark</th>\n",
       "    </tr>\n",
       "  </thead>\n",
       "  <tbody>\n",
       "    <tr>\n",
       "      <th>0</th>\n",
       "      <td>826</td>\n",
       "      <td>Bridal Buddy</td>\n",
       "      <td>a functional slip worn under a wedding gown th...</td>\n",
       "      <td>1</td>\n",
       "      <td>KOL+LG</td>\n",
       "    </tr>\n",
       "    <tr>\n",
       "      <th>1</th>\n",
       "      <td>826</td>\n",
       "      <td>Laid Brand</td>\n",
       "      <td>hair-care products made with pheromones . Laid...</td>\n",
       "      <td>0</td>\n",
       "      <td>NaN</td>\n",
       "    </tr>\n",
       "    <tr>\n",
       "      <th>2</th>\n",
       "      <td>826</td>\n",
       "      <td>Rocketbook</td>\n",
       "      <td>a notebook that can scan contents to cloud ser...</td>\n",
       "      <td>0</td>\n",
       "      <td>NaN</td>\n",
       "    </tr>\n",
       "    <tr>\n",
       "      <th>3</th>\n",
       "      <td>826</td>\n",
       "      <td>Wine &amp; Design</td>\n",
       "      <td>painting classes with wine served . Wine &amp; Des...</td>\n",
       "      <td>1</td>\n",
       "      <td>KOL</td>\n",
       "    </tr>\n",
       "    <tr>\n",
       "      <th>4</th>\n",
       "      <td>824</td>\n",
       "      <td>Peoples Design</td>\n",
       "      <td>a mixing bowl with a built-in scoop . Peoples ...</td>\n",
       "      <td>1</td>\n",
       "      <td>LG</td>\n",
       "    </tr>\n",
       "    <tr>\n",
       "      <th>...</th>\n",
       "      <td>...</td>\n",
       "      <td>...</td>\n",
       "      <td>...</td>\n",
       "      <td>...</td>\n",
       "      <td>...</td>\n",
       "    </tr>\n",
       "    <tr>\n",
       "      <th>701</th>\n",
       "      <td>101</td>\n",
       "      <td>Ava the Elephant</td>\n",
       "      <td>(Emmy the Elephant during show, trademarked a...</td>\n",
       "      <td>1</td>\n",
       "      <td>BC</td>\n",
       "    </tr>\n",
       "    <tr>\n",
       "      <th>702</th>\n",
       "      <td>101</td>\n",
       "      <td>College Foxes Packing Boxes</td>\n",
       "      <td>a packing and organizing service based on an a...</td>\n",
       "      <td>0</td>\n",
       "      <td>NaN</td>\n",
       "    </tr>\n",
       "    <tr>\n",
       "      <th>703</th>\n",
       "      <td>101</td>\n",
       "      <td>Ionic Ear</td>\n",
       "      <td>an implantable Bluetooth device requiring surg...</td>\n",
       "      <td>0</td>\n",
       "      <td>NaN</td>\n",
       "    </tr>\n",
       "    <tr>\n",
       "      <th>704</th>\n",
       "      <td>101</td>\n",
       "      <td>Mr. Tod's Pie Factory</td>\n",
       "      <td>a pie company</td>\n",
       "      <td>1</td>\n",
       "      <td>BC+DJ</td>\n",
       "    </tr>\n",
       "    <tr>\n",
       "      <th>705</th>\n",
       "      <td>101</td>\n",
       "      <td>Wispots</td>\n",
       "      <td>an electronic hand-held device for waiting roo...</td>\n",
       "      <td>0</td>\n",
       "      <td>NaN</td>\n",
       "    </tr>\n",
       "  </tbody>\n",
       "</table>\n",
       "<p>706 rows × 5 columns</p>\n",
       "</div>"
      ],
      "text/plain": [
       "      ep                        Pitch  \\\n",
       "0    826                 Bridal Buddy   \n",
       "1    826                   Laid Brand   \n",
       "2    826                   Rocketbook   \n",
       "3    826                Wine & Design   \n",
       "4    824               Peoples Design   \n",
       "..   ...                          ...   \n",
       "701  101             Ava the Elephant   \n",
       "702  101  College Foxes Packing Boxes   \n",
       "703  101                    Ionic Ear   \n",
       "704  101        Mr. Tod's Pie Factory   \n",
       "705  101                      Wispots   \n",
       "\n",
       "                                                  Desc  Deal_Status Deal_Shark  \n",
       "0    a functional slip worn under a wedding gown th...            1     KOL+LG  \n",
       "1    hair-care products made with pheromones . Laid...            0        NaN  \n",
       "2    a notebook that can scan contents to cloud ser...            0        NaN  \n",
       "3    painting classes with wine served . Wine & Des...            1        KOL  \n",
       "4    a mixing bowl with a built-in scoop . Peoples ...            1         LG  \n",
       "..                                                 ...          ...        ...  \n",
       "701   (Emmy the Elephant during show, trademarked a...            1         BC  \n",
       "702  a packing and organizing service based on an a...            0        NaN  \n",
       "703  an implantable Bluetooth device requiring surg...            0        NaN  \n",
       "704                                     a pie company             1      BC+DJ  \n",
       "705  an electronic hand-held device for waiting roo...            0        NaN  \n",
       "\n",
       "[706 rows x 5 columns]"
      ]
     },
     "execution_count": 3,
     "metadata": {},
     "output_type": "execute_result"
    }
   ],
   "source": [
    "# Renames columns for easier reference when coding\n",
    "train = train.rename(columns={'Season_Epi_code': 'ep', 'Pitched_Business_Identifier': 'Pitch', 'Pitched_Business_Desc': 'Desc'})\n",
    "\n",
    "# Ensures the 'Deal_Status' column consists of integers, and not strings\n",
    "train['Deal_Status'] = train['Deal_Status'].apply(int)\n",
    "\n",
    "# Removes any non-text characters that may still be contained in the string\n",
    "train['Desc'] = train['Desc'].apply(lambda x: x.encode(\"ascii\", \"ignore\").decode())\n",
    "train"
   ]
  },
  {
   "cell_type": "markdown",
   "id": "bb0dcd77",
   "metadata": {},
   "source": [
    "Before diving straight into analysis, we wanted to see if there was any correlation or relationship between description and deal status, outside of the contents of the description itself. This included features like description length, number of unique words, etc."
   ]
  },
  {
   "cell_type": "code",
   "execution_count": 4,
   "id": "2b5053f2",
   "metadata": {
    "scrolled": true
   },
   "outputs": [
    {
     "name": "stderr",
     "output_type": "stream",
     "text": [
      "/var/folders/0s/5m0f8zn14rj4s30b53jsshkr0000gn/T/ipykernel_6244/3774513342.py:12: SettingWithCopyWarning: \n",
      "A value is trying to be set on a copy of a slice from a DataFrame.\n",
      "Try using .loc[row_indexer,col_indexer] = value instead\n",
      "\n",
      "See the caveats in the documentation: https://pandas.pydata.org/pandas-docs/stable/user_guide/indexing.html#returning-a-view-versus-a-copy\n",
      "  freq['Desc'] = freq['Desc'].apply(str.split)\n"
     ]
    },
    {
     "data": {
      "text/html": [
       "<div>\n",
       "<style scoped>\n",
       "    .dataframe tbody tr th:only-of-type {\n",
       "        vertical-align: middle;\n",
       "    }\n",
       "\n",
       "    .dataframe tbody tr th {\n",
       "        vertical-align: top;\n",
       "    }\n",
       "\n",
       "    .dataframe thead th {\n",
       "        text-align: right;\n",
       "    }\n",
       "</style>\n",
       "<table border=\"1\" class=\"dataframe\">\n",
       "  <thead>\n",
       "    <tr style=\"text-align: right;\">\n",
       "      <th></th>\n",
       "      <th>ep</th>\n",
       "      <th>Pitch</th>\n",
       "      <th>Desc</th>\n",
       "      <th>Deal_Status</th>\n",
       "      <th>Deal_Shark</th>\n",
       "      <th>Desc_len</th>\n",
       "      <th>nunique</th>\n",
       "      <th>diverse</th>\n",
       "      <th>freq</th>\n",
       "    </tr>\n",
       "  </thead>\n",
       "  <tbody>\n",
       "    <tr>\n",
       "      <th>0</th>\n",
       "      <td>826</td>\n",
       "      <td>Bridal Buddy</td>\n",
       "      <td>a functional slip worn under a wedding gown th...</td>\n",
       "      <td>1</td>\n",
       "      <td>KOL+LG</td>\n",
       "      <td>58</td>\n",
       "      <td>44</td>\n",
       "      <td>[functional, slip, worn, under, wedding, gown,...</td>\n",
       "      <td>4.151515</td>\n",
       "    </tr>\n",
       "    <tr>\n",
       "      <th>1</th>\n",
       "      <td>826</td>\n",
       "      <td>Laid Brand</td>\n",
       "      <td>hair-care products made with pheromones . Laid...</td>\n",
       "      <td>0</td>\n",
       "      <td>NaN</td>\n",
       "      <td>31</td>\n",
       "      <td>30</td>\n",
       "      <td>[hair-care, pheromones, Laid, brand, pheromone...</td>\n",
       "      <td>3.400000</td>\n",
       "    </tr>\n",
       "    <tr>\n",
       "      <th>2</th>\n",
       "      <td>826</td>\n",
       "      <td>Rocketbook</td>\n",
       "      <td>a notebook that can scan contents to cloud ser...</td>\n",
       "      <td>0</td>\n",
       "      <td>NaN</td>\n",
       "      <td>71</td>\n",
       "      <td>47</td>\n",
       "      <td>[notebook, scan, contents, cloud, services, vi...</td>\n",
       "      <td>3.228571</td>\n",
       "    </tr>\n",
       "    <tr>\n",
       "      <th>3</th>\n",
       "      <td>826</td>\n",
       "      <td>Wine &amp; Design</td>\n",
       "      <td>painting classes with wine served . Wine &amp; Des...</td>\n",
       "      <td>1</td>\n",
       "      <td>KOL</td>\n",
       "      <td>37</td>\n",
       "      <td>33</td>\n",
       "      <td>[painting, classes, served, Wine, &amp;, Design, s...</td>\n",
       "      <td>4.280000</td>\n",
       "    </tr>\n",
       "    <tr>\n",
       "      <th>4</th>\n",
       "      <td>824</td>\n",
       "      <td>Peoples Design</td>\n",
       "      <td>a mixing bowl with a built-in scoop . Peoples ...</td>\n",
       "      <td>1</td>\n",
       "      <td>LG</td>\n",
       "      <td>43</td>\n",
       "      <td>36</td>\n",
       "      <td>[mixing, bowl, built-in, scoop, Peoples, Desig...</td>\n",
       "      <td>4.310345</td>\n",
       "    </tr>\n",
       "    <tr>\n",
       "      <th>...</th>\n",
       "      <td>...</td>\n",
       "      <td>...</td>\n",
       "      <td>...</td>\n",
       "      <td>...</td>\n",
       "      <td>...</td>\n",
       "      <td>...</td>\n",
       "      <td>...</td>\n",
       "      <td>...</td>\n",
       "      <td>...</td>\n",
       "    </tr>\n",
       "    <tr>\n",
       "      <th>701</th>\n",
       "      <td>101</td>\n",
       "      <td>Ava the Elephant</td>\n",
       "      <td>(Emmy the Elephant during show, trademarked a...</td>\n",
       "      <td>1</td>\n",
       "      <td>BC</td>\n",
       "      <td>45</td>\n",
       "      <td>26</td>\n",
       "      <td>[(Emmy, Elephant, during, show,, trademarked, ...</td>\n",
       "      <td>6.187500</td>\n",
       "    </tr>\n",
       "    <tr>\n",
       "      <th>702</th>\n",
       "      <td>101</td>\n",
       "      <td>College Foxes Packing Boxes</td>\n",
       "      <td>a packing and organizing service based on an a...</td>\n",
       "      <td>0</td>\n",
       "      <td>NaN</td>\n",
       "      <td>39</td>\n",
       "      <td>22</td>\n",
       "      <td>[packing, organizing, based, already, successf...</td>\n",
       "      <td>3.280000</td>\n",
       "    </tr>\n",
       "    <tr>\n",
       "      <th>703</th>\n",
       "      <td>101</td>\n",
       "      <td>Ionic Ear</td>\n",
       "      <td>an implantable Bluetooth device requiring surg...</td>\n",
       "      <td>0</td>\n",
       "      <td>NaN</td>\n",
       "      <td>24</td>\n",
       "      <td>14</td>\n",
       "      <td>[implantable, Bluetooth, requiring, surgery, i...</td>\n",
       "      <td>3.750000</td>\n",
       "    </tr>\n",
       "    <tr>\n",
       "      <th>704</th>\n",
       "      <td>101</td>\n",
       "      <td>Mr. Tod's Pie Factory</td>\n",
       "      <td>a pie company</td>\n",
       "      <td>1</td>\n",
       "      <td>BC+DJ</td>\n",
       "      <td>3</td>\n",
       "      <td>3</td>\n",
       "      <td>[pie]</td>\n",
       "      <td>1.000000</td>\n",
       "    </tr>\n",
       "    <tr>\n",
       "      <th>705</th>\n",
       "      <td>101</td>\n",
       "      <td>Wispots</td>\n",
       "      <td>an electronic hand-held device for waiting roo...</td>\n",
       "      <td>0</td>\n",
       "      <td>NaN</td>\n",
       "      <td>15</td>\n",
       "      <td>8</td>\n",
       "      <td>[electronic, hand-held, waiting, rooms, electr...</td>\n",
       "      <td>3.500000</td>\n",
       "    </tr>\n",
       "  </tbody>\n",
       "</table>\n",
       "<p>706 rows × 9 columns</p>\n",
       "</div>"
      ],
      "text/plain": [
       "      ep                        Pitch  \\\n",
       "0    826                 Bridal Buddy   \n",
       "1    826                   Laid Brand   \n",
       "2    826                   Rocketbook   \n",
       "3    826                Wine & Design   \n",
       "4    824               Peoples Design   \n",
       "..   ...                          ...   \n",
       "701  101             Ava the Elephant   \n",
       "702  101  College Foxes Packing Boxes   \n",
       "703  101                    Ionic Ear   \n",
       "704  101        Mr. Tod's Pie Factory   \n",
       "705  101                      Wispots   \n",
       "\n",
       "                                                  Desc  Deal_Status  \\\n",
       "0    a functional slip worn under a wedding gown th...            1   \n",
       "1    hair-care products made with pheromones . Laid...            0   \n",
       "2    a notebook that can scan contents to cloud ser...            0   \n",
       "3    painting classes with wine served . Wine & Des...            1   \n",
       "4    a mixing bowl with a built-in scoop . Peoples ...            1   \n",
       "..                                                 ...          ...   \n",
       "701   (Emmy the Elephant during show, trademarked a...            1   \n",
       "702  a packing and organizing service based on an a...            0   \n",
       "703  an implantable Bluetooth device requiring surg...            0   \n",
       "704                                     a pie company             1   \n",
       "705  an electronic hand-held device for waiting roo...            0   \n",
       "\n",
       "    Deal_Shark  Desc_len  nunique  \\\n",
       "0       KOL+LG        58       44   \n",
       "1          NaN        31       30   \n",
       "2          NaN        71       47   \n",
       "3          KOL        37       33   \n",
       "4           LG        43       36   \n",
       "..         ...       ...      ...   \n",
       "701         BC        45       26   \n",
       "702        NaN        39       22   \n",
       "703        NaN        24       14   \n",
       "704      BC+DJ         3        3   \n",
       "705        NaN        15        8   \n",
       "\n",
       "                                               diverse      freq  \n",
       "0    [functional, slip, worn, under, wedding, gown,...  4.151515  \n",
       "1    [hair-care, pheromones, Laid, brand, pheromone...  3.400000  \n",
       "2    [notebook, scan, contents, cloud, services, vi...  3.228571  \n",
       "3    [painting, classes, served, Wine, &, Design, s...  4.280000  \n",
       "4    [mixing, bowl, built-in, scoop, Peoples, Desig...  4.310345  \n",
       "..                                                 ...       ...  \n",
       "701  [(Emmy, Elephant, during, show,, trademarked, ...  6.187500  \n",
       "702  [packing, organizing, based, already, successf...  3.280000  \n",
       "703  [implantable, Bluetooth, requiring, surgery, i...  3.750000  \n",
       "704                                              [pie]  1.000000  \n",
       "705  [electronic, hand-held, waiting, rooms, electr...  3.500000  \n",
       "\n",
       "[706 rows x 9 columns]"
      ]
     },
     "execution_count": 4,
     "metadata": {},
     "output_type": "execute_result"
    }
   ],
   "source": [
    "features = train.copy()\n",
    "\n",
    "# Retrieves the word count of each description\n",
    "features['Desc_len'] = features['Desc'].apply(lambda x: len(x.split()))\n",
    "\n",
    "# Retrieves the number of unique words of each description\n",
    "features['nunique'] = features['Desc'].apply(lambda x: len(set(x.split())))\n",
    "\n",
    "# We can filter out the top 100 common words like 'a', 'and', 'the', etc. and quantify the uniqueness of a \n",
    "# description based on the average frequency of words\n",
    "freq = features[['Pitch','Desc']]\n",
    "freq['Desc'] = freq['Desc'].apply(str.split)\n",
    "freq = freq.explode('Desc')['Desc'].value_counts()\n",
    "\n",
    "# List of important words filtered out from original description\n",
    "features['diverse'] = features['Desc'].apply(lambda y: list(filter(lambda x: x not in freq[:100], y.split())))\n",
    "out = features[['Pitch','diverse']].explode('diverse')\n",
    "\n",
    "# Calculated 'freq' value from formula created above\n",
    "out['freq'] = out['diverse'].apply(lambda x: freq[x])\n",
    "out = pd.DataFrame(out.groupby('Pitch')['freq'].mean()).reset_index()\n",
    "features = features.merge(out[['Pitch','freq']], how='outer', on='Pitch')\n",
    "features"
   ]
  },
  {
   "cell_type": "markdown",
   "id": "4940c908",
   "metadata": {},
   "source": [
    "# Visualizations"
   ]
  },
  {
   "cell_type": "markdown",
   "id": "7979a297",
   "metadata": {},
   "source": [
    "### Comparisons of Averages"
   ]
  },
  {
   "cell_type": "markdown",
   "id": "b4ff0b44",
   "metadata": {},
   "source": [
    "**Description Length**"
   ]
  },
  {
   "cell_type": "code",
   "execution_count": 5,
   "id": "2520a3e6",
   "metadata": {},
   "outputs": [
    {
     "data": {
      "text/plain": [
       "Deal_Status\n",
       "0    26.120743\n",
       "1    32.731070\n",
       "Name: Desc_len, dtype: float64"
      ]
     },
     "execution_count": 5,
     "metadata": {},
     "output_type": "execute_result"
    }
   ],
   "source": [
    "features.groupby('Deal_Status')['Desc_len'].apply(np.mean)"
   ]
  },
  {
   "cell_type": "markdown",
   "id": "cf41ee9d",
   "metadata": {},
   "source": [
    "**# of Unique Words**"
   ]
  },
  {
   "cell_type": "code",
   "execution_count": 6,
   "id": "4d4dc383",
   "metadata": {},
   "outputs": [
    {
     "data": {
      "text/plain": [
       "Deal_Status\n",
       "0    19.473684\n",
       "1    25.404700\n",
       "Name: nunique, dtype: float64"
      ]
     },
     "execution_count": 6,
     "metadata": {},
     "output_type": "execute_result"
    }
   ],
   "source": [
    "features.groupby('Deal_Status')['nunique'].apply(np.mean)"
   ]
  },
  {
   "cell_type": "markdown",
   "id": "d7aedc1a",
   "metadata": {},
   "source": [
    "**Calculated 'Freq' Value**"
   ]
  },
  {
   "cell_type": "code",
   "execution_count": 7,
   "id": "1b742bee",
   "metadata": {},
   "outputs": [
    {
     "data": {
      "text/plain": [
       "Deal_Status\n",
       "0    4.803017\n",
       "1    4.795254\n",
       "Name: freq, dtype: float64"
      ]
     },
     "execution_count": 7,
     "metadata": {},
     "output_type": "execute_result"
    }
   ],
   "source": [
    "features.groupby('Deal_Status')['freq'].apply(np.mean)"
   ]
  },
  {
   "cell_type": "markdown",
   "id": "3ee2498a",
   "metadata": {},
   "source": [
    "From the statistics above, it seems that our **freq value means are the same**, while the **description length** and **number of unique words** seem to **differ between groups slightly**. However, more exploration must be conducted before making any assumptions or drawing any conclusions."
   ]
  },
  {
   "cell_type": "markdown",
   "id": "f6120c72",
   "metadata": {},
   "source": [
    "### **Distributions of Pitch Word Counts** (Deal vs No Deal)"
   ]
  },
  {
   "cell_type": "code",
   "execution_count": 8,
   "id": "c4dc93ad",
   "metadata": {
    "scrolled": true
   },
   "outputs": [
    {
     "data": {
      "text/plain": [
       "<matplotlib.legend.Legend at 0x7fbbf37130d0>"
      ]
     },
     "execution_count": 8,
     "metadata": {},
     "output_type": "execute_result"
    },
    {
     "data": {
      "image/png": "[encoded data removed]",
      "text/plain": [
       "<Figure size 576x432 with 1 Axes>"
      ]
     },
     "metadata": {
      "needs_background": "light"
     },
     "output_type": "display_data"
    }
   ],
   "source": [
    "len_dist = features.groupby('Deal_Status')['Desc_len'].apply(list)\n",
    "plt.figure(figsize=(8,6))\n",
    "plt.hist(len_dist[0], bins=8, alpha=0.5, label='0')\n",
    "plt.hist(len_dist[1], bins=8, alpha=0.5, label='1')\n",
    "plt.xlabel('Word Count')\n",
    "plt.ylabel('Count')\n",
    "plt.title('Distribution of Word Counts by Deal/No Deal')\n",
    "plt.legend(loc='upper right')"
   ]
  },
  {
   "cell_type": "markdown",
   "id": "f624c820",
   "metadata": {},
   "source": [
    "From the visual above, despite differing in means earlier, we see that the overall distribution of word counts are **quite the same** whether a deal was made or not."
   ]
  },
  {
   "cell_type": "markdown",
   "id": "db4a9f4e",
   "metadata": {},
   "source": [
    "### **Distributions of Pitch Unique Word Counts** (Deal vs No Deal)"
   ]
  },
  {
   "cell_type": "code",
   "execution_count": 9,
   "id": "b8178bcb",
   "metadata": {
    "scrolled": false
   },
   "outputs": [
    {
     "data": {
      "text/plain": [
       "<matplotlib.legend.Legend at 0x7fbbf3349760>"
      ]
     },
     "execution_count": 9,
     "metadata": {},
     "output_type": "execute_result"
    },
    {
     "data": {
      "image/png": "[encoded data removed]",
      "text/plain": [
       "<Figure size 576x432 with 1 Axes>"
      ]
     },
     "metadata": {
      "needs_background": "light"
     },
     "output_type": "display_data"
    }
   ],
   "source": [
    "unique_dist = features.groupby('Deal_Status')['nunique'].apply(list)\n",
    "plt.figure(figsize=(8,6))\n",
    "plt.hist(unique_dist[0], bins=8, alpha=0.5, label='0')\n",
    "plt.hist(unique_dist[1], bins=8, alpha=0.5, label='1')\n",
    "plt.xlabel('# of Unique Words')\n",
    "plt.ylabel('Count')\n",
    "plt.title('Distribution of # of Unique Words by Deal/No Deal')\n",
    "plt.legend(loc='upper right')"
   ]
  },
  {
   "cell_type": "markdown",
   "id": "56a04bd7",
   "metadata": {},
   "source": [
    "While the distributions for number of unique words seem similar, the distribution for pitches that landed deals seems to be **slightly bi-modal.** This may be useful in predicting, as the other frequencies before had solely an inverse relationship with our variables."
   ]
  },
  {
   "cell_type": "markdown",
   "id": "704a16e2",
   "metadata": {},
   "source": [
    "### **Distributions of Pitch Uniqueness** (Deal vs No Deal)"
   ]
  },
  {
   "cell_type": "code",
   "execution_count": 10,
   "id": "a9eab32d",
   "metadata": {
    "scrolled": true
   },
   "outputs": [
    {
     "data": {
      "text/plain": [
       "<matplotlib.legend.Legend at 0x7fbbf33e6670>"
      ]
     },
     "execution_count": 10,
     "metadata": {},
     "output_type": "execute_result"
    },
    {
     "data": {
      "image/png": "[encoded data removed]",
      "text/plain": [
       "<Figure size 576x432 with 1 Axes>"
      ]
     },
     "metadata": {
      "needs_background": "light"
     },
     "output_type": "display_data"
    }
   ],
   "source": [
    "freq_dist = features.groupby('Deal_Status')['freq'].apply(list)\n",
    "plt.figure(figsize=(8,6))\n",
    "plt.hist(freq_dist[0], bins=8, alpha=0.5, label='0')\n",
    "plt.hist(freq_dist[1], bins=8, alpha=0.5, label='1')\n",
    "plt.xlabel('uniqueness')\n",
    "plt.ylabel('Count')\n",
    "plt.title('Distribution of uniqueness by Deal/No Deal')\n",
    "plt.legend(loc='upper right')"
   ]
  },
  {
   "cell_type": "markdown",
   "id": "2c3e889f",
   "metadata": {},
   "source": [
    "as speculated from the descriptive statistics, the distribution of our freq values across classes is **incredibly similar,** and thus not helpful in discerning between deals or no deals."
   ]
  },
  {
   "cell_type": "markdown",
   "id": "cd088cec",
   "metadata": {},
   "source": [
    "After taking a deeper look into the distributions of our engineered features, it seems like the number of unique words may have some sort of influence on the decision of making a deal. Now, we will create a Natural Language Processing model, along with our quantification of unique words, to try and predict deals."
   ]
  },
  {
   "cell_type": "markdown",
   "id": "b4300c92",
   "metadata": {},
   "source": [
    "# Analysis / Results"
   ]
  },
  {
   "cell_type": "markdown",
   "id": "146c8536",
   "metadata": {},
   "source": [
    "### Avg Word2Vec & KNN"
   ]
  },
  {
   "cell_type": "markdown",
   "id": "189c459c",
   "metadata": {},
   "source": [
    "The first model we will try is a combination of **Word2Vec** and **K-Nearest Neighbors.** With this, each sentence will be converted into an array of numbers, with each number referencing the vector-numerical (size 200) representation of each word in the sentence. The new features will then be used to train a K-Nearest Neighbors model, and a **gridsearch** will be conducted to optimize the number of parameters and metric formula used to calculate the distances between the points."
   ]
  },
  {
   "cell_type": "code",
   "execution_count": 11,
   "id": "1d64bdca",
   "metadata": {},
   "outputs": [],
   "source": [
    "sentences = list(train['Desc'].apply(str.split))"
   ]
  },
  {
   "cell_type": "code",
   "execution_count": 12,
   "id": "b5eb3f73",
   "metadata": {},
   "outputs": [],
   "source": [
    "word2vec = Word2Vec(sentences=sentences, window=15, vector_size=200, min_count=2)\n",
    "\n",
    "# Each sentence is represented by the average word vector value of all words in the sentence\n",
    "def avgVec(data):\n",
    "    out = []\n",
    "    for each in data:\n",
    "        count = 0\n",
    "        vec = np.zeros(200)\n",
    "        for every in each:\n",
    "            if every in list(word2vec.wv.key_to_index.keys()):\n",
    "                vec+=word2vec.wv.get_vector(every)\n",
    "                count+=1\n",
    "        if count!=0:\n",
    "            vec/=count\n",
    "            out.append(vec)\n",
    "        if count == 0:\n",
    "            out.append(vec)\n",
    "    return out"
   ]
  },
  {
   "cell_type": "code",
   "execution_count": 13,
   "id": "b84d4fc8",
   "metadata": {},
   "outputs": [],
   "source": [
    "trainVec = pd.DataFrame(avgVec(sentences))"
   ]
  },
  {
   "cell_type": "code",
   "execution_count": 14,
   "id": "3ed11192",
   "metadata": {},
   "outputs": [
    {
     "name": "stdout",
     "output_type": "stream",
     "text": [
      "{'metric': 'minkowski', 'n_neighbors': 20}\n",
      "Accuracy: 0.6005665722379604\n",
      "F1 Score: 0.6289473684210526\n"
     ]
    }
   ],
   "source": [
    "knn = KNeighborsClassifier()\n",
    "param = {'n_neighbors' : [5,10,15,20,30,40,50,60,100], 'metric' : ['manhattan', 'minkowski', 'euclidean', 'chebyshev']}\n",
    "opt = GridSearchCV(knn, param)\n",
    "opt.fit(trainVec, train['Deal_Status'])\n",
    "print(opt.best_params_)\n",
    "train['predict knn'] = opt.predict(trainVec)\n",
    "print('Accuracy: ' + str((train['predict knn'] == train['Deal_Status']).mean()))\n",
    "print('F1 Score: ' + str(f1_score(train['Deal_Status'], train['predict knn'])))"
   ]
  },
  {
   "cell_type": "markdown",
   "id": "22fa9a2f",
   "metadata": {},
   "source": [
    "Our GridSearch shows that the minkowski distance with 20-NN yields the highest accuracy at around **60%.** Our F1 score is about **0.63.** Let's see if we can create a better model."
   ]
  },
  {
   "cell_type": "markdown",
   "id": "c8f276bb",
   "metadata": {},
   "source": [
    "### CountVectorizer, # of Unique Words, and Logistic Regression"
   ]
  },
  {
   "cell_type": "markdown",
   "id": "b0b08d35",
   "metadata": {},
   "source": [
    "The next model uses a combination of **CountVectorizer**, **number of unique words**, and **Logistic Regression**. CountVectorizer, similarly to Word2Vec, vectorizes each sentence based on its words' frequencies throughout the entire dataset. We added the number of unique words as another feature to see if it serves as an effective factor in determining deals. We presume that pitches with a higher number of unique words indicate that the owners of the pitch have extensive knowledge of their product, and they are able to articulate the effectiveness of their product well. Thus, the sharks might be more willing to secure a deal with pitches that seem to be more well-researched."
   ]
  },
  {
   "cell_type": "code",
   "execution_count": 15,
   "id": "77e3f1bd",
   "metadata": {
    "scrolled": true
   },
   "outputs": [
    {
     "data": {
      "text/html": [
       "<div>\n",
       "<style scoped>\n",
       "    .dataframe tbody tr th:only-of-type {\n",
       "        vertical-align: middle;\n",
       "    }\n",
       "\n",
       "    .dataframe tbody tr th {\n",
       "        vertical-align: top;\n",
       "    }\n",
       "\n",
       "    .dataframe thead th {\n",
       "        text-align: right;\n",
       "    }\n",
       "</style>\n",
       "<table border=\"1\" class=\"dataframe\">\n",
       "  <thead>\n",
       "    <tr style=\"text-align: right;\">\n",
       "      <th></th>\n",
       "      <th>&amp;</th>\n",
       "      <th>.</th>\n",
       "      <th>10</th>\n",
       "      <th>100</th>\n",
       "      <th>100%</th>\n",
       "      <th>12</th>\n",
       "      <th>15</th>\n",
       "      <th>3</th>\n",
       "      <th>360</th>\n",
       "      <th>3d</th>\n",
       "      <th>...</th>\n",
       "      <th>you.</th>\n",
       "      <th>youll</th>\n",
       "      <th>young</th>\n",
       "      <th>your</th>\n",
       "      <th>youre</th>\n",
       "      <th>yourself</th>\n",
       "      <th>youve</th>\n",
       "      <th>zip-lock</th>\n",
       "      <th>zomm</th>\n",
       "      <th>nunique</th>\n",
       "    </tr>\n",
       "  </thead>\n",
       "  <tbody>\n",
       "    <tr>\n",
       "      <th>0</th>\n",
       "      <td>0</td>\n",
       "      <td>1</td>\n",
       "      <td>0</td>\n",
       "      <td>0</td>\n",
       "      <td>0</td>\n",
       "      <td>0</td>\n",
       "      <td>0</td>\n",
       "      <td>0</td>\n",
       "      <td>0</td>\n",
       "      <td>0</td>\n",
       "      <td>...</td>\n",
       "      <td>0</td>\n",
       "      <td>0</td>\n",
       "      <td>0</td>\n",
       "      <td>0</td>\n",
       "      <td>0</td>\n",
       "      <td>0</td>\n",
       "      <td>0</td>\n",
       "      <td>0</td>\n",
       "      <td>0</td>\n",
       "      <td>44</td>\n",
       "    </tr>\n",
       "    <tr>\n",
       "      <th>1</th>\n",
       "      <td>0</td>\n",
       "      <td>1</td>\n",
       "      <td>0</td>\n",
       "      <td>0</td>\n",
       "      <td>0</td>\n",
       "      <td>0</td>\n",
       "      <td>0</td>\n",
       "      <td>0</td>\n",
       "      <td>0</td>\n",
       "      <td>0</td>\n",
       "      <td>...</td>\n",
       "      <td>0</td>\n",
       "      <td>0</td>\n",
       "      <td>0</td>\n",
       "      <td>0</td>\n",
       "      <td>0</td>\n",
       "      <td>0</td>\n",
       "      <td>0</td>\n",
       "      <td>0</td>\n",
       "      <td>0</td>\n",
       "      <td>30</td>\n",
       "    </tr>\n",
       "    <tr>\n",
       "      <th>2</th>\n",
       "      <td>0</td>\n",
       "      <td>1</td>\n",
       "      <td>0</td>\n",
       "      <td>0</td>\n",
       "      <td>0</td>\n",
       "      <td>0</td>\n",
       "      <td>0</td>\n",
       "      <td>0</td>\n",
       "      <td>0</td>\n",
       "      <td>0</td>\n",
       "      <td>...</td>\n",
       "      <td>0</td>\n",
       "      <td>0</td>\n",
       "      <td>0</td>\n",
       "      <td>0</td>\n",
       "      <td>0</td>\n",
       "      <td>0</td>\n",
       "      <td>0</td>\n",
       "      <td>0</td>\n",
       "      <td>0</td>\n",
       "      <td>47</td>\n",
       "    </tr>\n",
       "    <tr>\n",
       "      <th>3</th>\n",
       "      <td>1</td>\n",
       "      <td>1</td>\n",
       "      <td>0</td>\n",
       "      <td>0</td>\n",
       "      <td>0</td>\n",
       "      <td>0</td>\n",
       "      <td>0</td>\n",
       "      <td>0</td>\n",
       "      <td>0</td>\n",
       "      <td>0</td>\n",
       "      <td>...</td>\n",
       "      <td>0</td>\n",
       "      <td>0</td>\n",
       "      <td>0</td>\n",
       "      <td>1</td>\n",
       "      <td>0</td>\n",
       "      <td>0</td>\n",
       "      <td>0</td>\n",
       "      <td>0</td>\n",
       "      <td>0</td>\n",
       "      <td>33</td>\n",
       "    </tr>\n",
       "    <tr>\n",
       "      <th>4</th>\n",
       "      <td>0</td>\n",
       "      <td>1</td>\n",
       "      <td>0</td>\n",
       "      <td>0</td>\n",
       "      <td>0</td>\n",
       "      <td>0</td>\n",
       "      <td>0</td>\n",
       "      <td>0</td>\n",
       "      <td>0</td>\n",
       "      <td>0</td>\n",
       "      <td>...</td>\n",
       "      <td>0</td>\n",
       "      <td>0</td>\n",
       "      <td>0</td>\n",
       "      <td>0</td>\n",
       "      <td>0</td>\n",
       "      <td>0</td>\n",
       "      <td>0</td>\n",
       "      <td>0</td>\n",
       "      <td>0</td>\n",
       "      <td>36</td>\n",
       "    </tr>\n",
       "    <tr>\n",
       "      <th>...</th>\n",
       "      <td>...</td>\n",
       "      <td>...</td>\n",
       "      <td>...</td>\n",
       "      <td>...</td>\n",
       "      <td>...</td>\n",
       "      <td>...</td>\n",
       "      <td>...</td>\n",
       "      <td>...</td>\n",
       "      <td>...</td>\n",
       "      <td>...</td>\n",
       "      <td>...</td>\n",
       "      <td>...</td>\n",
       "      <td>...</td>\n",
       "      <td>...</td>\n",
       "      <td>...</td>\n",
       "      <td>...</td>\n",
       "      <td>...</td>\n",
       "      <td>...</td>\n",
       "      <td>...</td>\n",
       "      <td>...</td>\n",
       "      <td>...</td>\n",
       "    </tr>\n",
       "    <tr>\n",
       "      <th>701</th>\n",
       "      <td>0</td>\n",
       "      <td>1</td>\n",
       "      <td>0</td>\n",
       "      <td>0</td>\n",
       "      <td>0</td>\n",
       "      <td>0</td>\n",
       "      <td>0</td>\n",
       "      <td>0</td>\n",
       "      <td>0</td>\n",
       "      <td>0</td>\n",
       "      <td>...</td>\n",
       "      <td>0</td>\n",
       "      <td>0</td>\n",
       "      <td>0</td>\n",
       "      <td>0</td>\n",
       "      <td>0</td>\n",
       "      <td>0</td>\n",
       "      <td>0</td>\n",
       "      <td>0</td>\n",
       "      <td>0</td>\n",
       "      <td>26</td>\n",
       "    </tr>\n",
       "    <tr>\n",
       "      <th>702</th>\n",
       "      <td>0</td>\n",
       "      <td>1</td>\n",
       "      <td>0</td>\n",
       "      <td>0</td>\n",
       "      <td>0</td>\n",
       "      <td>0</td>\n",
       "      <td>0</td>\n",
       "      <td>0</td>\n",
       "      <td>0</td>\n",
       "      <td>0</td>\n",
       "      <td>...</td>\n",
       "      <td>0</td>\n",
       "      <td>0</td>\n",
       "      <td>0</td>\n",
       "      <td>0</td>\n",
       "      <td>0</td>\n",
       "      <td>0</td>\n",
       "      <td>0</td>\n",
       "      <td>0</td>\n",
       "      <td>0</td>\n",
       "      <td>22</td>\n",
       "    </tr>\n",
       "    <tr>\n",
       "      <th>703</th>\n",
       "      <td>0</td>\n",
       "      <td>1</td>\n",
       "      <td>0</td>\n",
       "      <td>0</td>\n",
       "      <td>0</td>\n",
       "      <td>0</td>\n",
       "      <td>0</td>\n",
       "      <td>0</td>\n",
       "      <td>0</td>\n",
       "      <td>0</td>\n",
       "      <td>...</td>\n",
       "      <td>0</td>\n",
       "      <td>0</td>\n",
       "      <td>0</td>\n",
       "      <td>1</td>\n",
       "      <td>0</td>\n",
       "      <td>0</td>\n",
       "      <td>0</td>\n",
       "      <td>0</td>\n",
       "      <td>0</td>\n",
       "      <td>14</td>\n",
       "    </tr>\n",
       "    <tr>\n",
       "      <th>704</th>\n",
       "      <td>0</td>\n",
       "      <td>0</td>\n",
       "      <td>0</td>\n",
       "      <td>0</td>\n",
       "      <td>0</td>\n",
       "      <td>0</td>\n",
       "      <td>0</td>\n",
       "      <td>0</td>\n",
       "      <td>0</td>\n",
       "      <td>0</td>\n",
       "      <td>...</td>\n",
       "      <td>0</td>\n",
       "      <td>0</td>\n",
       "      <td>0</td>\n",
       "      <td>0</td>\n",
       "      <td>0</td>\n",
       "      <td>0</td>\n",
       "      <td>0</td>\n",
       "      <td>0</td>\n",
       "      <td>0</td>\n",
       "      <td>3</td>\n",
       "    </tr>\n",
       "    <tr>\n",
       "      <th>705</th>\n",
       "      <td>0</td>\n",
       "      <td>1</td>\n",
       "      <td>0</td>\n",
       "      <td>0</td>\n",
       "      <td>0</td>\n",
       "      <td>0</td>\n",
       "      <td>0</td>\n",
       "      <td>0</td>\n",
       "      <td>0</td>\n",
       "      <td>0</td>\n",
       "      <td>...</td>\n",
       "      <td>0</td>\n",
       "      <td>0</td>\n",
       "      <td>0</td>\n",
       "      <td>0</td>\n",
       "      <td>0</td>\n",
       "      <td>0</td>\n",
       "      <td>0</td>\n",
       "      <td>0</td>\n",
       "      <td>0</td>\n",
       "      <td>8</td>\n",
       "    </tr>\n",
       "  </tbody>\n",
       "</table>\n",
       "<p>706 rows × 1501 columns</p>\n",
       "</div>"
      ],
      "text/plain": [
       "     &  .  10  100  100%  12  15  3  360  3d  ...  you.  youll  young  your  \\\n",
       "0    0  1   0    0     0   0   0  0    0   0  ...     0      0      0     0   \n",
       "1    0  1   0    0     0   0   0  0    0   0  ...     0      0      0     0   \n",
       "2    0  1   0    0     0   0   0  0    0   0  ...     0      0      0     0   \n",
       "3    1  1   0    0     0   0   0  0    0   0  ...     0      0      0     1   \n",
       "4    0  1   0    0     0   0   0  0    0   0  ...     0      0      0     0   \n",
       "..  .. ..  ..  ...   ...  ..  .. ..  ...  ..  ...   ...    ...    ...   ...   \n",
       "701  0  1   0    0     0   0   0  0    0   0  ...     0      0      0     0   \n",
       "702  0  1   0    0     0   0   0  0    0   0  ...     0      0      0     0   \n",
       "703  0  1   0    0     0   0   0  0    0   0  ...     0      0      0     1   \n",
       "704  0  0   0    0     0   0   0  0    0   0  ...     0      0      0     0   \n",
       "705  0  1   0    0     0   0   0  0    0   0  ...     0      0      0     0   \n",
       "\n",
       "     youre  yourself  youve  zip-lock  zomm  nunique  \n",
       "0        0         0      0         0     0       44  \n",
       "1        0         0      0         0     0       30  \n",
       "2        0         0      0         0     0       47  \n",
       "3        0         0      0         0     0       33  \n",
       "4        0         0      0         0     0       36  \n",
       "..     ...       ...    ...       ...   ...      ...  \n",
       "701      0         0      0         0     0       26  \n",
       "702      0         0      0         0     0       22  \n",
       "703      0         0      0         0     0       14  \n",
       "704      0         0      0         0     0        3  \n",
       "705      0         0      0         0     0        8  \n",
       "\n",
       "[706 rows x 1501 columns]"
      ]
     },
     "execution_count": 15,
     "metadata": {},
     "output_type": "execute_result"
    }
   ],
   "source": [
    "CountVec = CountVectorizer(ngram_range=(1,1), tokenizer = lambda x: x.split(), max_features=1500)\n",
    "Count_data = CountVec.fit_transform(train['Desc'])\n",
    "cv_dataframe = pd.DataFrame(Count_data.toarray(), columns=CountVec.get_feature_names())\n",
    "cv_dataframe['nunique'] = train['Desc'].apply(lambda x: len(set(x.split())))\n",
    "cv_dataframe"
   ]
  },
  {
   "cell_type": "code",
   "execution_count": 16,
   "id": "74c5b402",
   "metadata": {
    "scrolled": false
   },
   "outputs": [
    {
     "name": "stderr",
     "output_type": "stream",
     "text": [
      "/Users/hienbui/opt/anaconda3/lib/python3.9/site-packages/sklearn/linear_model/_logistic.py:763: ConvergenceWarning: lbfgs failed to converge (status=1):\n",
      "STOP: TOTAL NO. of ITERATIONS REACHED LIMIT.\n",
      "\n",
      "Increase the number of iterations (max_iter) or scale the data as shown in:\n",
      "    https://scikit-learn.org/stable/modules/preprocessing.html\n",
      "Please also refer to the documentation for alternative solver options:\n",
      "    https://scikit-learn.org/stable/modules/linear_model.html#logistic-regression\n",
      "  n_iter_i = _check_optimize_result(\n"
     ]
    },
    {
     "data": {
      "text/plain": [
       "LogisticRegression()"
      ]
     },
     "execution_count": 16,
     "metadata": {},
     "output_type": "execute_result"
    }
   ],
   "source": [
    "model = LogisticRegression()\n",
    "model.fit(cv_dataframe, train['Deal_Status'])"
   ]
  },
  {
   "cell_type": "code",
   "execution_count": 17,
   "id": "fb72a5c7",
   "metadata": {},
   "outputs": [
    {
     "name": "stdout",
     "output_type": "stream",
     "text": [
      "Accuracy: 0.9716713881019831\n",
      "F1 Score: 0.9738903394255874\n"
     ]
    }
   ],
   "source": [
    "test_data = CountVec.transform(train['Desc'])\n",
    "train_df = pd.DataFrame(test_data.toarray(), columns=CountVec.get_feature_names())\n",
    "train_df['nunique'] = train['Desc'].apply(lambda x: len(set(x.split())))\n",
    "train['predict logistic regression'] = model.predict(train_df)\n",
    "print('Accuracy: ' + str((train['predict logistic regression'] == train['Deal_Status']).mean()))\n",
    "print('F1 Score: ' + str(f1_score(train['Deal_Status'], train['predict logistic regression'])))"
   ]
  },
  {
   "cell_type": "markdown",
   "id": "91cc27ac",
   "metadata": {},
   "source": [
    "As shown above, this model yields an accuracy of about **97%** and an F1 score of **0.97**, which is much better than our first model."
   ]
  },
  {
   "cell_type": "markdown",
   "id": "3802442c",
   "metadata": {},
   "source": [
    "### Predicting on Test data"
   ]
  },
  {
   "cell_type": "code",
   "execution_count": 18,
   "id": "06f88949",
   "metadata": {},
   "outputs": [
    {
     "data": {
      "text/html": [
       "<div>\n",
       "<style scoped>\n",
       "    .dataframe tbody tr th:only-of-type {\n",
       "        vertical-align: middle;\n",
       "    }\n",
       "\n",
       "    .dataframe tbody tr th {\n",
       "        vertical-align: top;\n",
       "    }\n",
       "\n",
       "    .dataframe thead th {\n",
       "        text-align: right;\n",
       "    }\n",
       "</style>\n",
       "<table border=\"1\" class=\"dataframe\">\n",
       "  <thead>\n",
       "    <tr style=\"text-align: right;\">\n",
       "      <th></th>\n",
       "      <th>ep</th>\n",
       "      <th>Pitch</th>\n",
       "      <th>Desc</th>\n",
       "      <th>predict</th>\n",
       "    </tr>\n",
       "  </thead>\n",
       "  <tbody>\n",
       "    <tr>\n",
       "      <th>0</th>\n",
       "      <td>410</td>\n",
       "      <td>Nearly Newlywed</td>\n",
       "      <td>a bridal dress boutique which buys, sells, and...</td>\n",
       "      <td>0</td>\n",
       "    </tr>\n",
       "    <tr>\n",
       "      <th>1</th>\n",
       "      <td>104</td>\n",
       "      <td>Gift Card Rescue</td>\n",
       "      <td>a web site that buys and resells unused gift c...</td>\n",
       "      <td>1</td>\n",
       "    </tr>\n",
       "    <tr>\n",
       "      <th>2</th>\n",
       "      <td>415</td>\n",
       "      <td>The Green Garmento</td>\n",
       "      <td>an eco-friendly garment bag . an eco-friendly ...</td>\n",
       "      <td>0</td>\n",
       "    </tr>\n",
       "    <tr>\n",
       "      <th>3</th>\n",
       "      <td>823</td>\n",
       "      <td>Flag</td>\n",
       "      <td>a free photo printing service that prints ads ...</td>\n",
       "      <td>0</td>\n",
       "    </tr>\n",
       "    <tr>\n",
       "      <th>4</th>\n",
       "      <td>629</td>\n",
       "      <td>Budsies</td>\n",
       "      <td>a company that creates custom plush toys based...</td>\n",
       "      <td>0</td>\n",
       "    </tr>\n",
       "    <tr>\n",
       "      <th>...</th>\n",
       "      <td>...</td>\n",
       "      <td>...</td>\n",
       "      <td>...</td>\n",
       "      <td>...</td>\n",
       "    </tr>\n",
       "    <tr>\n",
       "      <th>171</th>\n",
       "      <td>814</td>\n",
       "      <td>DBest Products</td>\n",
       "      <td>a line of carriers and portable carts . dbest ...</td>\n",
       "      <td>1</td>\n",
       "    </tr>\n",
       "    <tr>\n",
       "      <th>172</th>\n",
       "      <td>108</td>\n",
       "      <td>Treasure Chest Pets</td>\n",
       "      <td>an organizer for children designed like a stuf...</td>\n",
       "      <td>1</td>\n",
       "    </tr>\n",
       "    <tr>\n",
       "      <th>173</th>\n",
       "      <td>504</td>\n",
       "      <td>ScreenMend</td>\n",
       "      <td>window screen repair patches . window screen r...</td>\n",
       "      <td>1</td>\n",
       "    </tr>\n",
       "    <tr>\n",
       "      <th>174</th>\n",
       "      <td>610</td>\n",
       "      <td>Heidi Ho</td>\n",
       "      <td>a dairy-free line of plant-based cheese spread...</td>\n",
       "      <td>1</td>\n",
       "    </tr>\n",
       "    <tr>\n",
       "      <th>175</th>\n",
       "      <td>204</td>\n",
       "      <td>Origaudio</td>\n",
       "      <td>innovative portable speakers . innovative port...</td>\n",
       "      <td>1</td>\n",
       "    </tr>\n",
       "  </tbody>\n",
       "</table>\n",
       "<p>176 rows × 4 columns</p>\n",
       "</div>"
      ],
      "text/plain": [
       "      ep                Pitch  \\\n",
       "0    410      Nearly Newlywed   \n",
       "1    104     Gift Card Rescue   \n",
       "2    415   The Green Garmento   \n",
       "3    823                 Flag   \n",
       "4    629              Budsies   \n",
       "..   ...                  ...   \n",
       "171  814       DBest Products   \n",
       "172  108  Treasure Chest Pets   \n",
       "173  504           ScreenMend   \n",
       "174  610             Heidi Ho   \n",
       "175  204            Origaudio   \n",
       "\n",
       "                                                  Desc  predict  \n",
       "0    a bridal dress boutique which buys, sells, and...        0  \n",
       "1    a web site that buys and resells unused gift c...        1  \n",
       "2    an eco-friendly garment bag . an eco-friendly ...        0  \n",
       "3    a free photo printing service that prints ads ...        0  \n",
       "4    a company that creates custom plush toys based...        0  \n",
       "..                                                 ...      ...  \n",
       "171  a line of carriers and portable carts . dbest ...        1  \n",
       "172  an organizer for children designed like a stuf...        1  \n",
       "173  window screen repair patches . window screen r...        1  \n",
       "174  a dairy-free line of plant-based cheese spread...        1  \n",
       "175  innovative portable speakers . innovative port...        1  \n",
       "\n",
       "[176 rows x 4 columns]"
      ]
     },
     "execution_count": 18,
     "metadata": {},
     "output_type": "execute_result"
    }
   ],
   "source": [
    "test = test.rename(columns={'Season_Epi_code': 'ep', 'Pitched_Business_Identifier': 'Pitch', 'Pitched_Business_Desc': 'Desc'})\n",
    "test['Desc'] = test['Desc'].apply(lambda x: x.encode(\"ascii\", \"ignore\").decode())\n",
    "test_out = CountVec.transform(test['Desc'])\n",
    "test_df = pd.DataFrame(test_out.toarray(), columns=CountVec.get_feature_names())\n",
    "test_df['nunique'] = test['Desc'].apply(lambda x: len(set(x.split())))\n",
    "test['predict'] = model.predict(test_df)\n",
    "test\n"
   ]
  },
  {
   "cell_type": "code",
   "execution_count": 19,
   "id": "8c89e84f",
   "metadata": {},
   "outputs": [],
   "source": [
    "test.rename(columns={'ep': 'Season_Epi_code', \n",
    "                     'Pitch': 'Pitched_Business_Identifier', \n",
    "                     'Desc': 'Pitched_Business_Desc'}\n",
    "           ).to_csv('results.csv')"
   ]
  },
  {
   "cell_type": "markdown",
   "id": "7880ad6f",
   "metadata": {},
   "source": [
    "# Conclusion / Future Improvements"
   ]
  },
  {
   "cell_type": "markdown",
   "id": "bc0f381c",
   "metadata": {},
   "source": [
    "Based on the two models, we have concluded that the **second model,** consisting of CountVectorizer, # of unique words, and Logistic Regression yields a much better accuracy and F1 score. \n",
    "\n",
    "The second model yields a **97%** accuracy in comparison to **60%** from its counterpart. We assume that the improvement in the second model is due to the number of unique words, which has a greater influence on predicting the outcome of the pitch. \n",
    "\n",
    "The **number of unique words** serves as a better feature in comparison to simply the length of the description, because long descriptions could have many common, unimportant filler words. It also removes any fluff from pitches that use words repetitively during the presentation, which could indicate of lack of knowledge or research of the product from the ownder. Thus, the lack of unique words could deter sharks from offering deals while extensive vocabulary might persuade them. \n",
    "\n",
    "To further improve this model, we believe that a **larger dataset** and **more features** accessible to us will be more beneficial, such as the stake the pitchers ask for or whether a shark provides a counteroffer, which indicates that the shark approves of the pitch but requires more security to his/her investment. Naturally, with more data comes better models and predictions."
   ]
  },
  {
   "cell_type": "code",
   "execution_count": null,
   "id": "0ac21a1b",
   "metadata": {},
   "outputs": [],
   "source": []
  }
 ],
 "metadata": {
  "kernelspec": {
   "display_name": "Python 3 (ipykernel)",
   "language": "python",
   "name": "python3"
  },
  "language_info": {
   "codemirror_mode": {
    "name": "ipython",
    "version": 3
   },
   "file_extension": ".py",
   "mimetype": "text/x-python",
   "name": "python",
   "nbconvert_exporter": "python",
   "pygments_lexer": "ipython3",
   "version": "3.9.7"
  }
 },
 "nbformat": 4,
 "nbformat_minor": 5
}
